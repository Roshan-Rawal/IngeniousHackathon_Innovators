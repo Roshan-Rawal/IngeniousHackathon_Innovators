{
 "cells": [
  {
   "cell_type": "code",
   "execution_count": 1,
   "metadata": {},
   "outputs": [
    {
     "name": "stdout",
     "output_type": "stream",
     "text": [
      "Enter texthappened because he/she came to talk in between\n",
      "After spell checking happened because he/she came to talk in between\n",
      "\thappened because he/she came to talk in between\n",
      "calm\n",
      "Anger  0.118\n",
      "Calm  0.882\n"
     ]
    }
   ],
   "source": [
    "from textblob.classifiers import NaiveBayesClassifier\n",
    "from textblob import TextBlob\n",
    "\n",
    "In = input(\"Enter text\")\n",
    "tb = TextBlob(In)\n",
    "#if (tb )\n",
    "#print(\"After spell checking\",tb.correct())\n",
    "print('\\t' + str(tb))\n",
    "\n",
    "with open(\"anger.csv\",\"r\",encoding=\"utf8\") as fp:\n",
    "    \n",
    "    \n",
    "        c1 = NaiveBayesClassifier(fp)\n",
    "        #w = c1.classify(a)\n",
    "        prob_list = c1.prob_classify(tb)\n",
    "        print(prob_list.max())\n",
    "        ab = prob_list.max()\n",
    "        print(\"Anger \",round(prob_list.prob(\"Anger\"),3))\n",
    "        print(\"Calm \", round(prob_list.prob(\"calm\"),3))\n",
    "\n",
    "        #if w==''"
   ]
  },
  {
   "cell_type": "code",
   "execution_count": 17,
   "metadata": {},
   "outputs": [
    {
     "name": "stdout",
     "output_type": "stream",
     "text": [
      "Enter textYou will feel irritated and tell them you will do it later\n",
      "\tYou will feel irritated and tell them you will do it later\n",
      "Anger\n",
      "Anger  0.626\n",
      "Calm  0.373\n"
     ]
    }
   ],
   "source": [
    "In = input(\"Enter text\")\n",
    "tb = TextBlob(In)\n",
    "#if (tb )\n",
    "#print(\"After spell checking\",tb.correct())\n",
    "print('\\t' + str(tb))\n",
    "\n",
    "with open(\"anger.csv\",\"r\",encoding=\"utf8\") as fp:\n",
    "    \n",
    "    \n",
    "        c1 = NaiveBayesClassifier(fp)\n",
    "        #w = c1.classify(a)\n",
    "        prob_list = c1.prob_classify(tb)\n",
    "        print(prob_list.max())\n",
    "        ab = prob_list.max()\n",
    "        print(\"Anger \",round(prob_list.prob(\"Anger\"),3))\n",
    "        print(\"Calm \", round(prob_list.prob(\"calm\"),3))\n",
    "\n"
   ]
  },
  {
   "cell_type": "code",
   "execution_count": null,
   "metadata": {},
   "outputs": [],
   "source": []
  }
 ],
 "metadata": {
  "kernelspec": {
   "display_name": "Python 3",
   "language": "python",
   "name": "python3"
  },
  "language_info": {
   "codemirror_mode": {
    "name": "ipython",
    "version": 3
   },
   "file_extension": ".py",
   "mimetype": "text/x-python",
   "name": "python",
   "nbconvert_exporter": "python",
   "pygments_lexer": "ipython3",
   "version": "3.5.2"
  }
 },
 "nbformat": 4,
 "nbformat_minor": 2
}
